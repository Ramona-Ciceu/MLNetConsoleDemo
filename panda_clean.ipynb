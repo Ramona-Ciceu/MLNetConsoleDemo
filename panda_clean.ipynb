{
 "cells": [
  {
   "cell_type": "code",
   "execution_count": 1,
   "id": "77e2f443-129e-430d-8048-b26503908e81",
   "metadata": {},
   "outputs": [
    {
     "name": "stdout",
     "output_type": "stream",
     "text": [
      "✔ Cleaned CSV saved. You are good to go!\n"
     ]
    }
   ],
   "source": [
    "import pandas as pd\n",
    "import csv\n",
    "\n",
    "# Load correctly\n",
    "df = pd.read_csv(\"game_data_balanced.csv\", sep=',', quotechar='\"')\n",
    "\n",
    "# Clean headers\n",
    "df.columns = df.columns.str.replace('\"', '').str.strip()\n",
    "\n",
    "# Fix numeric columns\n",
    "int_columns = [\n",
    "    \"Player_ID\", \"Dice_Roll_1\", \"Dice_Roll_2\", \"Move_Value\",\n",
    "    \"Resulting_Position\", \"Credits_Before\", \"Credits_After\"\n",
    "]\n",
    "for col in int_columns:\n",
    "    df[col] = pd.to_numeric(df[col], errors=\"coerce\").fillna(0).astype(int)\n",
    "\n",
    "# Convert to boolean\n",
    "df[\"Won_Game\"] = df[\"Won_Game\"].apply(lambda x: True if str(x).strip() in [\"1\", \"1.0\", \"True\", \"true\"] else False)\n",
    "\n",
    "# Save cleaned\n",
    "def quote_non_boolean(val):\n",
    "    return False if isinstance(val, bool) else True\n",
    "\n",
    "df.to_csv(\n",
    "    \"game_data_cleaned.csv\",\n",
    "    index=False,\n",
    "    sep=',',\n",
    "    quoting=csv.QUOTE_NONNUMERIC,  # Only quote strings and numbers — not booleans\n",
    "    quotechar='\"',\n",
    "    encoding='utf-8'\n",
    ")\n",
    "\n",
    "print(\"✔ Cleaned CSV saved. You are good to go!\")\n"
   ]
  },
  {
   "cell_type": "code",
   "execution_count": null,
   "id": "449ab07d-8fc3-4b71-9bb7-69e0a670006c",
   "metadata": {},
   "outputs": [],
   "source": []
  }
 ],
 "metadata": {
  "kernelspec": {
   "display_name": "Python 3 (ipykernel)",
   "language": "python",
   "name": "python3"
  },
  "language_info": {
   "codemirror_mode": {
    "name": "ipython",
    "version": 3
   },
   "file_extension": ".py",
   "mimetype": "text/x-python",
   "name": "python",
   "nbconvert_exporter": "python",
   "pygments_lexer": "ipython3",
   "version": "3.11.6"
  }
 },
 "nbformat": 4,
 "nbformat_minor": 5
}
